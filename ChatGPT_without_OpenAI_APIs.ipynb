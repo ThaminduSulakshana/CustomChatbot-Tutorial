{
  "nbformat": 4,
  "nbformat_minor": 0,
  "metadata": {
    "colab": {
      "provenance": [],
      "mount_file_id": "1QvUM2wFSPfQJKI7kbhYFUhPAMW2Vi_mH",
      "authorship_tag": "ABX9TyOK+98+LeED/aO8J5xqfE1e",
      "include_colab_link": true
    },
    "kernelspec": {
      "name": "python3",
      "display_name": "Python 3"
    },
    "language_info": {
      "name": "python"
    }
  },
  "cells": [
    {
      "cell_type": "markdown",
      "metadata": {
        "id": "view-in-github",
        "colab_type": "text"
      },
      "source": [
        "<a href=\"https://colab.research.google.com/github/ThaminduSulakshana/CustomChatbot-Tutorial/blob/main/ChatGPT_without_OpenAI_APIs.ipynb\" target=\"_parent\"><img src=\"https://colab.research.google.com/assets/colab-badge.svg\" alt=\"Open In Colab\"/></a>"
      ]
    },
    {
      "cell_type": "code",
      "execution_count": null,
      "metadata": {
        "id": "ugBk8o8OXnxK"
      },
      "outputs": [],
      "source": [
        "!pip install langchain\n",
        "!pip install PyPDF2 langchain\n",
        "!pip install sentence-transformers\n",
        "!pip install faiss-gpu"
      ]
    },
    {
      "cell_type": "markdown",
      "source": [
        "# Convert a document into chunks of text using langchain text splitter"
      ],
      "metadata": {
        "id": "0IYXBh77Xxy4"
      }
    },
    {
      "cell_type": "code",
      "source": [
        "import PyPDF2\n",
        "from langchain.text_splitter import SpacyTextSplitter\n",
        "from sentence_transformers import SentenceTransformer\n",
        "import pandas as pd\n",
        "import faiss"
      ],
      "metadata": {
        "id": "mIjF-agkZKr2"
      },
      "execution_count": null,
      "outputs": []
    },
    {
      "cell_type": "code",
      "source": [
        "# Define a function to extract text from a PDF file\n",
        "def extract_text_from_pdf(pdf_path):\n",
        "    text = \"\"\n",
        "    with open(pdf_path, 'rb') as file:\n",
        "        pdf_reader = PyPDF2.PdfReader(file)\n",
        "        num_pages = len(pdf_reader.pages)\n",
        "        for page_number in range(num_pages):\n",
        "            page = pdf_reader.pages[page_number]\n",
        "            text += page.extract_text()\n",
        "    return text\n",
        "\n",
        "pdf_path = '/content/drive/MyDrive/bluechiptech.asia/LangChain-Chat-bot/docs/MachineLearning-Lecture01.pdf'"
      ],
      "metadata": {
        "id": "IMKKw4ZBZN8m"
      },
      "execution_count": null,
      "outputs": []
    },
    {
      "cell_type": "code",
      "source": [
        "# Extract text from the PDF\n",
        "pdf_text = extract_text_from_pdf(pdf_path)\n",
        "\n",
        "# Create a SpacyTextSplitter instance with a specified chunk size\n",
        "text_splitter = SpacyTextSplitter(chunk_size=500)\n",
        "\n",
        "# Split the text into chunks\n",
        "texts = text_splitter.split_text(pdf_text)"
      ],
      "metadata": {
        "colab": {
          "base_uri": "https://localhost:8080/"
        },
        "id": "uynkNHD7ZN1e",
        "outputId": "5513e2cc-ffea-4393-a424-8e01fe855306"
      },
      "execution_count": null,
      "outputs": [
        {
          "output_type": "stream",
          "name": "stderr",
          "text": [
            "/usr/local/lib/python3.10/dist-packages/spacy/pipeline/lemmatizer.py:211: UserWarning: [W108] The rule-based lemmatizer did not find POS annotation for one or more tokens. Check that your pipeline includes components that assign token.pos, typically 'tagger'+'attribute_ruler' or 'morphologizer'.\n",
            "  warnings.warn(Warnings.W108)\n",
            "WARNING:langchain.text_splitter:Created a chunk of size 523, which is longer than the specified 500\n",
            "WARNING:langchain.text_splitter:Created a chunk of size 516, which is longer than the specified 500\n"
          ]
        }
      ]
    },
    {
      "cell_type": "code",
      "source": [
        "def extract_first_line_from_pdf(pdf_path):\n",
        "    with open(pdf_path, 'rb') as file:\n",
        "        pdf_reader = PyPDF2.PdfReader(file)\n",
        "        num_pages = len(pdf_reader.pages)\n",
        "\n",
        "        if num_pages > 0:\n",
        "            first_page = pdf_reader.pages[0]\n",
        "            first_line = first_page.extract_text().split('\\n')[0]\n",
        "            return first_line\n",
        "        else:\n",
        "            return \"No pages found in the PDF.\""
      ],
      "metadata": {
        "id": "JUvunnExZrhe"
      },
      "execution_count": null,
      "outputs": []
    },
    {
      "cell_type": "code",
      "source": [
        "# Extract and print the first line from the PDF\n",
        "first_line = extract_first_line_from_pdf(pdf_path)\n",
        "print(\"First line from the PDF:\", first_line)"
      ],
      "metadata": {
        "colab": {
          "base_uri": "https://localhost:8080/"
        },
        "id": "k4Rw2mpvZtU_",
        "outputId": "5a4581d4-aa50-41dd-c536-36d66f4fe600"
      },
      "execution_count": null,
      "outputs": [
        {
          "output_type": "stream",
          "name": "stdout",
          "text": [
            "First line from the PDF: MachineLearning-Lecture01  \n"
          ]
        }
      ]
    },
    {
      "cell_type": "code",
      "source": [
        "def extract_first_100_words_from_pdf(pdf_path):\n",
        "    with open(pdf_path, 'rb') as file:\n",
        "        pdf_reader = PyPDF2.PdfReader(file)\n",
        "        num_pages = len(pdf_reader.pages)\n",
        "\n",
        "        if num_pages > 0:\n",
        "            first_page = pdf_reader.pages[0]\n",
        "            text = first_page.extract_text()\n",
        "            words = text.split()[:100]\n",
        "            first_100_words = ' '.join(words)\n",
        "            return first_100_words\n",
        "        else:\n",
        "            return \"No pages found in the PDF.\""
      ],
      "metadata": {
        "id": "wTm175MUaNMP"
      },
      "execution_count": null,
      "outputs": []
    },
    {
      "cell_type": "code",
      "source": [
        "# Extract the first 100 words from the PDF\n",
        "first_100_words = extract_first_100_words_from_pdf(pdf_path)\n",
        "print(first_100_words)"
      ],
      "metadata": {
        "colab": {
          "base_uri": "https://localhost:8080/"
        },
        "id": "WMXZeQ6raQmf",
        "outputId": "a82978c1-91a5-4f5a-9767-3d115730219e"
      },
      "execution_count": null,
      "outputs": [
        {
          "output_type": "stream",
          "name": "stdout",
          "text": [
            "MachineLearning-Lecture01 Instructor (Andrew Ng): Okay. Good morning. Welcome to CS229, the machine learning class. So what I wanna do today is ju st spend a little time going over the logistics of the class, and then we'll start to talk a bit about machine learning. By way of introduction, my name's Andrew Ng and I'll be instru ctor for this class. And so I personally work in machine learning, and I' ve worked on it for about 15 years now, and I actually think that machine learning is th e most exciting field of all the computer sciences. So I'm\n"
          ]
        }
      ]
    },
    {
      "cell_type": "code",
      "source": [
        "# Encode the text using SentenceTransformer\n",
        "encoder = SentenceTransformer(\"paraphrase-mpnet-base-v2\")\n",
        "vectors = encoder.encode(texts)"
      ],
      "metadata": {
        "id": "NYFaXXPdmUZF"
      },
      "execution_count": null,
      "outputs": []
    },
    {
      "cell_type": "code",
      "source": [
        "# Build the FAISS index\n",
        "index = faiss.IndexFlatIP(vectors.shape[1])\n",
        "index.add(vectors)"
      ],
      "metadata": {
        "id": "trFhsPMhnANF"
      },
      "execution_count": null,
      "outputs": []
    },
    {
      "cell_type": "code",
      "source": [
        "df = pd.DataFrame({'facts': texts})\n",
        "question_counter = 0"
      ],
      "metadata": {
        "id": "eiIBqlwMaij3"
      },
      "execution_count": null,
      "outputs": []
    },
    {
      "cell_type": "code",
      "source": [
        "df.head()"
      ],
      "metadata": {
        "colab": {
          "base_uri": "https://localhost:8080/",
          "height": 206
        },
        "id": "62A_BZvbakbX",
        "outputId": "7db4dc30-a946-495a-94b3-47d1442d66f2"
      },
      "execution_count": null,
      "outputs": [
        {
          "output_type": "execute_result",
          "data": {
            "text/plain": [
              "                                               facts\n",
              "0  MachineLearning-Lecture01  \\nInstructor (Andre...\n",
              "1  By way of introduction, my name's  Andrew Ng\\n...\n",
              "2  So I'm actually always excited about  teaching...\n",
              "3  Paul Baumstarck \\nworks in machine learning an...\n",
              "4  Zico Kolter is  the head TA — he's head TA two..."
            ],
            "text/html": [
              "\n",
              "  <div id=\"df-4989ba22-196b-4fe1-939c-9e6f26ffaf41\" class=\"colab-df-container\">\n",
              "    <div>\n",
              "<style scoped>\n",
              "    .dataframe tbody tr th:only-of-type {\n",
              "        vertical-align: middle;\n",
              "    }\n",
              "\n",
              "    .dataframe tbody tr th {\n",
              "        vertical-align: top;\n",
              "    }\n",
              "\n",
              "    .dataframe thead th {\n",
              "        text-align: right;\n",
              "    }\n",
              "</style>\n",
              "<table border=\"1\" class=\"dataframe\">\n",
              "  <thead>\n",
              "    <tr style=\"text-align: right;\">\n",
              "      <th></th>\n",
              "      <th>facts</th>\n",
              "    </tr>\n",
              "  </thead>\n",
              "  <tbody>\n",
              "    <tr>\n",
              "      <th>0</th>\n",
              "      <td>MachineLearning-Lecture01  \\nInstructor (Andre...</td>\n",
              "    </tr>\n",
              "    <tr>\n",
              "      <th>1</th>\n",
              "      <td>By way of introduction, my name's  Andrew Ng\\n...</td>\n",
              "    </tr>\n",
              "    <tr>\n",
              "      <th>2</th>\n",
              "      <td>So I'm actually always excited about  teaching...</td>\n",
              "    </tr>\n",
              "    <tr>\n",
              "      <th>3</th>\n",
              "      <td>Paul Baumstarck \\nworks in machine learning an...</td>\n",
              "    </tr>\n",
              "    <tr>\n",
              "      <th>4</th>\n",
              "      <td>Zico Kolter is  the head TA — he's head TA two...</td>\n",
              "    </tr>\n",
              "  </tbody>\n",
              "</table>\n",
              "</div>\n",
              "    <div class=\"colab-df-buttons\">\n",
              "\n",
              "  <div class=\"colab-df-container\">\n",
              "    <button class=\"colab-df-convert\" onclick=\"convertToInteractive('df-4989ba22-196b-4fe1-939c-9e6f26ffaf41')\"\n",
              "            title=\"Convert this dataframe to an interactive table.\"\n",
              "            style=\"display:none;\">\n",
              "\n",
              "  <svg xmlns=\"http://www.w3.org/2000/svg\" height=\"24px\" viewBox=\"0 -960 960 960\">\n",
              "    <path d=\"M120-120v-720h720v720H120Zm60-500h600v-160H180v160Zm220 220h160v-160H400v160Zm0 220h160v-160H400v160ZM180-400h160v-160H180v160Zm440 0h160v-160H620v160ZM180-180h160v-160H180v160Zm440 0h160v-160H620v160Z\"/>\n",
              "  </svg>\n",
              "    </button>\n",
              "\n",
              "  <style>\n",
              "    .colab-df-container {\n",
              "      display:flex;\n",
              "      gap: 12px;\n",
              "    }\n",
              "\n",
              "    .colab-df-convert {\n",
              "      background-color: #E8F0FE;\n",
              "      border: none;\n",
              "      border-radius: 50%;\n",
              "      cursor: pointer;\n",
              "      display: none;\n",
              "      fill: #1967D2;\n",
              "      height: 32px;\n",
              "      padding: 0 0 0 0;\n",
              "      width: 32px;\n",
              "    }\n",
              "\n",
              "    .colab-df-convert:hover {\n",
              "      background-color: #E2EBFA;\n",
              "      box-shadow: 0px 1px 2px rgba(60, 64, 67, 0.3), 0px 1px 3px 1px rgba(60, 64, 67, 0.15);\n",
              "      fill: #174EA6;\n",
              "    }\n",
              "\n",
              "    .colab-df-buttons div {\n",
              "      margin-bottom: 4px;\n",
              "    }\n",
              "\n",
              "    [theme=dark] .colab-df-convert {\n",
              "      background-color: #3B4455;\n",
              "      fill: #D2E3FC;\n",
              "    }\n",
              "\n",
              "    [theme=dark] .colab-df-convert:hover {\n",
              "      background-color: #434B5C;\n",
              "      box-shadow: 0px 1px 3px 1px rgba(0, 0, 0, 0.15);\n",
              "      filter: drop-shadow(0px 1px 2px rgba(0, 0, 0, 0.3));\n",
              "      fill: #FFFFFF;\n",
              "    }\n",
              "  </style>\n",
              "\n",
              "    <script>\n",
              "      const buttonEl =\n",
              "        document.querySelector('#df-4989ba22-196b-4fe1-939c-9e6f26ffaf41 button.colab-df-convert');\n",
              "      buttonEl.style.display =\n",
              "        google.colab.kernel.accessAllowed ? 'block' : 'none';\n",
              "\n",
              "      async function convertToInteractive(key) {\n",
              "        const element = document.querySelector('#df-4989ba22-196b-4fe1-939c-9e6f26ffaf41');\n",
              "        const dataTable =\n",
              "          await google.colab.kernel.invokeFunction('convertToInteractive',\n",
              "                                                    [key], {});\n",
              "        if (!dataTable) return;\n",
              "\n",
              "        const docLinkHtml = 'Like what you see? Visit the ' +\n",
              "          '<a target=\"_blank\" href=https://colab.research.google.com/notebooks/data_table.ipynb>data table notebook</a>'\n",
              "          + ' to learn more about interactive tables.';\n",
              "        element.innerHTML = '';\n",
              "        dataTable['output_type'] = 'display_data';\n",
              "        await google.colab.output.renderOutput(dataTable, element);\n",
              "        const docLink = document.createElement('div');\n",
              "        docLink.innerHTML = docLinkHtml;\n",
              "        element.appendChild(docLink);\n",
              "      }\n",
              "    </script>\n",
              "  </div>\n",
              "\n",
              "\n",
              "<div id=\"df-634dd66f-159b-4565-ab4a-3eef87c569b9\">\n",
              "  <button class=\"colab-df-quickchart\" onclick=\"quickchart('df-634dd66f-159b-4565-ab4a-3eef87c569b9')\"\n",
              "            title=\"Suggest charts\"\n",
              "            style=\"display:none;\">\n",
              "\n",
              "<svg xmlns=\"http://www.w3.org/2000/svg\" height=\"24px\"viewBox=\"0 0 24 24\"\n",
              "     width=\"24px\">\n",
              "    <g>\n",
              "        <path d=\"M19 3H5c-1.1 0-2 .9-2 2v14c0 1.1.9 2 2 2h14c1.1 0 2-.9 2-2V5c0-1.1-.9-2-2-2zM9 17H7v-7h2v7zm4 0h-2V7h2v10zm4 0h-2v-4h2v4z\"/>\n",
              "    </g>\n",
              "</svg>\n",
              "  </button>\n",
              "\n",
              "<style>\n",
              "  .colab-df-quickchart {\n",
              "      --bg-color: #E8F0FE;\n",
              "      --fill-color: #1967D2;\n",
              "      --hover-bg-color: #E2EBFA;\n",
              "      --hover-fill-color: #174EA6;\n",
              "      --disabled-fill-color: #AAA;\n",
              "      --disabled-bg-color: #DDD;\n",
              "  }\n",
              "\n",
              "  [theme=dark] .colab-df-quickchart {\n",
              "      --bg-color: #3B4455;\n",
              "      --fill-color: #D2E3FC;\n",
              "      --hover-bg-color: #434B5C;\n",
              "      --hover-fill-color: #FFFFFF;\n",
              "      --disabled-bg-color: #3B4455;\n",
              "      --disabled-fill-color: #666;\n",
              "  }\n",
              "\n",
              "  .colab-df-quickchart {\n",
              "    background-color: var(--bg-color);\n",
              "    border: none;\n",
              "    border-radius: 50%;\n",
              "    cursor: pointer;\n",
              "    display: none;\n",
              "    fill: var(--fill-color);\n",
              "    height: 32px;\n",
              "    padding: 0;\n",
              "    width: 32px;\n",
              "  }\n",
              "\n",
              "  .colab-df-quickchart:hover {\n",
              "    background-color: var(--hover-bg-color);\n",
              "    box-shadow: 0 1px 2px rgba(60, 64, 67, 0.3), 0 1px 3px 1px rgba(60, 64, 67, 0.15);\n",
              "    fill: var(--button-hover-fill-color);\n",
              "  }\n",
              "\n",
              "  .colab-df-quickchart-complete:disabled,\n",
              "  .colab-df-quickchart-complete:disabled:hover {\n",
              "    background-color: var(--disabled-bg-color);\n",
              "    fill: var(--disabled-fill-color);\n",
              "    box-shadow: none;\n",
              "  }\n",
              "\n",
              "  .colab-df-spinner {\n",
              "    border: 2px solid var(--fill-color);\n",
              "    border-color: transparent;\n",
              "    border-bottom-color: var(--fill-color);\n",
              "    animation:\n",
              "      spin 1s steps(1) infinite;\n",
              "  }\n",
              "\n",
              "  @keyframes spin {\n",
              "    0% {\n",
              "      border-color: transparent;\n",
              "      border-bottom-color: var(--fill-color);\n",
              "      border-left-color: var(--fill-color);\n",
              "    }\n",
              "    20% {\n",
              "      border-color: transparent;\n",
              "      border-left-color: var(--fill-color);\n",
              "      border-top-color: var(--fill-color);\n",
              "    }\n",
              "    30% {\n",
              "      border-color: transparent;\n",
              "      border-left-color: var(--fill-color);\n",
              "      border-top-color: var(--fill-color);\n",
              "      border-right-color: var(--fill-color);\n",
              "    }\n",
              "    40% {\n",
              "      border-color: transparent;\n",
              "      border-right-color: var(--fill-color);\n",
              "      border-top-color: var(--fill-color);\n",
              "    }\n",
              "    60% {\n",
              "      border-color: transparent;\n",
              "      border-right-color: var(--fill-color);\n",
              "    }\n",
              "    80% {\n",
              "      border-color: transparent;\n",
              "      border-right-color: var(--fill-color);\n",
              "      border-bottom-color: var(--fill-color);\n",
              "    }\n",
              "    90% {\n",
              "      border-color: transparent;\n",
              "      border-bottom-color: var(--fill-color);\n",
              "    }\n",
              "  }\n",
              "</style>\n",
              "\n",
              "  <script>\n",
              "    async function quickchart(key) {\n",
              "      const quickchartButtonEl =\n",
              "        document.querySelector('#' + key + ' button');\n",
              "      quickchartButtonEl.disabled = true;  // To prevent multiple clicks.\n",
              "      quickchartButtonEl.classList.add('colab-df-spinner');\n",
              "      try {\n",
              "        const charts = await google.colab.kernel.invokeFunction(\n",
              "            'suggestCharts', [key], {});\n",
              "      } catch (error) {\n",
              "        console.error('Error during call to suggestCharts:', error);\n",
              "      }\n",
              "      quickchartButtonEl.classList.remove('colab-df-spinner');\n",
              "      quickchartButtonEl.classList.add('colab-df-quickchart-complete');\n",
              "    }\n",
              "    (() => {\n",
              "      let quickchartButtonEl =\n",
              "        document.querySelector('#df-634dd66f-159b-4565-ab4a-3eef87c569b9 button');\n",
              "      quickchartButtonEl.style.display =\n",
              "        google.colab.kernel.accessAllowed ? 'block' : 'none';\n",
              "    })();\n",
              "  </script>\n",
              "</div>\n",
              "    </div>\n",
              "  </div>\n"
            ]
          },
          "metadata": {},
          "execution_count": 13
        }
      ]
    },
    {
      "cell_type": "code",
      "source": [
        "# Define the search function\n",
        "def search(search_text, encoder, index, df):\n",
        "    # Encode the search text\n",
        "    search_vector = encoder.encode([search_text])\n",
        "\n",
        "    # Normalize the search vector\n",
        "    faiss.normalize_L2(search_vector)\n",
        "\n",
        "    # Perform similarity search\n",
        "    k = index.ntotal\n",
        "    distances, ann = index.search(search_vector, k=k)\n",
        "    results = pd.DataFrame({'distances': distances[0], 'ann': ann[0]})\n",
        "\n",
        "    # Merge with the original dataframe\n",
        "    merge = pd.merge(results, df, left_on='ann', right_index=True)\n",
        "\n",
        "    return merge"
      ],
      "metadata": {
        "id": "cHCBzHM-ayrf"
      },
      "execution_count": null,
      "outputs": []
    },
    {
      "cell_type": "code",
      "source": [
        "# Example search query\n",
        "search_text = 'Why does Andrew Ng believe in machine learning'\n",
        "\n",
        "# Perform the search\n",
        "result = search(search_text, encoder, index, df)"
      ],
      "metadata": {
        "id": "ZV-NXRxRX4gR"
      },
      "execution_count": null,
      "outputs": []
    },
    {
      "cell_type": "code",
      "source": [
        "# Print the results\n",
        "print(result)"
      ],
      "metadata": {
        "colab": {
          "base_uri": "https://localhost:8080/"
        },
        "id": "4HSqQfbSnhQW",
        "outputId": "224242c3-8fdc-4828-81ce-bee65cdd417e"
      },
      "execution_count": null,
      "outputs": [
        {
          "output_type": "stream",
          "name": "stdout",
          "text": [
            "     distances  ann                                              facts\n",
            "0     1.658532   97  Here's a more recent, a more modern, more form...\n",
            "1     1.488541   24  And of course, learning algorithms are also  d...\n",
            "2     1.481760   14  So I have more logistics to go over later, but...\n",
            "3     1.468557    0  MachineLearning-Lecture01  \\nInstructor (Andre...\n",
            "4     1.465731  129  Okay?  \\n\\n\\nSo I think learning algorithms ar...\n",
            "..         ...  ...                                                ...\n",
            "182   0.231938  144  And so the images you see on the bottom — I gu...\n",
            "183   0.230419  158  So I'm gonna play some audi o clips that were ...\n",
            "184   0.230002  156  But what we're gonna do is we'll put two \\nmic...\n",
            "185   0.226047   89  I see.\\n\\nOkay, cool.\\n\\nOkay.\\n\\nNo, that's f...\n",
            "186   0.190356  155  So imagine a large cocktail party with lots of...\n",
            "\n",
            "[187 rows x 3 columns]\n"
          ]
        }
      ]
    },
    {
      "cell_type": "code",
      "source": [
        "# Extract the nearest result\n",
        "nearest_result = result.iloc[0]\n",
        "\n",
        "# Extract information from the nearest result\n",
        "nearest_distance = nearest_result['distances']\n",
        "nearest_ann = nearest_result['ann']\n",
        "nearest_text = df.loc[nearest_ann, 'facts']\n",
        "\n",
        "# Display the information\n",
        "print(f\"Nearest Distance: {nearest_distance}\")\n",
        "print(f\"Nearest ANN: {nearest_ann}\")\n",
        "print(f\"Nearest Text:\\n{nearest_text}\")\n"
      ],
      "metadata": {
        "colab": {
          "base_uri": "https://localhost:8080/"
        },
        "id": "dmrXoFzAoC0F",
        "outputId": "55d894bc-179e-40b3-d46f-4fc168191f91"
      },
      "execution_count": null,
      "outputs": [
        {
          "output_type": "stream",
          "name": "stdout",
          "text": [
            "Nearest Distance: 1.6585322618484497\n",
            "Nearest ANN: 97\n",
            "Nearest Text:\n",
            "Here's a more recent, a more modern, more formal definition of machine learning due to \n",
            "Tom Mitchell, who says that a well-posed le arning problem is defined as follows: He \n",
            "says that a computer program is set to lear n from an experience E with respect to some \n",
            "task T and some performance measure P if  its performance on T as measured by P \n",
            "improves with\n",
            "\n",
            "experience E. Okay.\n",
            "\n",
            "So not  only is it a definition, it even rhymes.\n"
          ]
        }
      ]
    },
    {
      "cell_type": "code",
      "source": [
        "nearest_index = result['ann'].iloc[0]\n",
        "\n",
        "# Retrieve the corresponding information from the original dataframe\n",
        "nearest_match = df.loc[nearest_index, 'facts']\n",
        "\n",
        "# Display the result\n",
        "print(f\"Question: {search_text}\\n\")\n",
        "print(f\"Answer: {nearest_match}\\n\")\n",
        "print(f\"Distance: {result['distances'].iloc[0]}\")\n"
      ],
      "metadata": {
        "colab": {
          "base_uri": "https://localhost:8080/"
        },
        "id": "263qQrI4pTNO",
        "outputId": "16e5d1c3-dabf-4602-c311-d7411d37fcc5"
      },
      "execution_count": null,
      "outputs": [
        {
          "output_type": "stream",
          "name": "stdout",
          "text": [
            "Question: Why does Andrew Ng believe in machine learning\n",
            "\n",
            "Answer: Here's a more recent, a more modern, more formal definition of machine learning due to \n",
            "Tom Mitchell, who says that a well-posed le arning problem is defined as follows: He \n",
            "says that a computer program is set to lear n from an experience E with respect to some \n",
            "task T and some performance measure P if  its performance on T as measured by P \n",
            "improves with\n",
            "\n",
            "experience E. Okay.\n",
            "\n",
            "So not  only is it a definition, it even rhymes.\n",
            "\n",
            "Distance: 1.6585322618484497\n"
          ]
        }
      ]
    },
    {
      "cell_type": "code",
      "source": [
        "# Interactive loop\n",
        "while True:\n",
        "    # Increment question counter\n",
        "    question_counter += 1\n",
        "\n",
        "    # Input question\n",
        "    search_text = input(f\"Type your question (type 'exit' to quit): \")\n",
        "\n",
        "    # Check for exit condition\n",
        "    if search_text.lower() == 'x':\n",
        "        break\n",
        "\n",
        "    # Perform the search\n",
        "    result = search(search_text, encoder, index, df)\n",
        "\n",
        "    # Display the results\n",
        "    if not result.empty:\n",
        "        nearest_index = result['ann'].iloc[0]\n",
        "        nearest_match = df.loc[nearest_index, 'facts']\n",
        "        print(f\"\\n{question_counter} Question: {search_text}\\n\")\n",
        "        print(f\"Nearest Match: {nearest_match}\\n\")\n",
        "        print(f\"Distance: {result['distances'].iloc[0]}\\n\")\n",
        "    else:\n",
        "        print(\"No matching result found.\\n\")"
      ],
      "metadata": {
        "colab": {
          "base_uri": "https://localhost:8080/"
        },
        "id": "XFmfjrDjrHVe",
        "outputId": "5b30366f-c2a2-4f20-9598-99e028ca826d"
      },
      "execution_count": null,
      "outputs": [
        {
          "name": "stdout",
          "output_type": "stream",
          "text": [
            "Type your question (type 'exit' to quit): What are the three goals that are mentioned in machine learning?\n",
            "\n",
            "1 Question: What are the three goals that are mentioned in machine learning?\n",
            "\n",
            "Nearest Match: So in teaching this class, I sort of have thre e goals.\n",
            "\n",
            "One of them is just to I hope convey \n",
            "some of my own excitement a bout machine learning to you.  \n",
            "\n",
            "\n",
            "The second goal is by the end of this class, I hope all of you will be ab le to apply state-of-\n",
            "the-art machine learning algorithms to whatev er problems you're interested in.\n",
            "\n",
            "And if you \n",
            "ever need to build a system for reading zi p codes, you'll know how to do that by the end \n",
            "of this class.\n",
            "\n",
            "Distance: 1.8445061445236206\n",
            "\n",
            "Type your question (type 'exit' to quit): Machine learning based on the backgrounds of the TAs\n",
            "\n",
            "2 Question: Machine learning based on the backgrounds of the TAs\n",
            "\n",
            "Nearest Match: And \n",
            "Daniel Ramage is — I guess he's not here  — Daniel applies l earning algorithms to \n",
            "problems in natural language processing.  \n",
            "\n",
            "\n",
            "So you'll get to know the TAs and me much be tter throughout this quarter, but just from \n",
            "the sorts of things the TA's do, I hope you can  already tell that machine learning is a \n",
            "highly interdisciplinary topic in which just the TAs find l earning algorithms to problems \n",
            "in computer vision and biology and robots a nd language.\n",
            "\n",
            "Distance: 1.538949966430664\n",
            "\n",
            "Type your question (type 'exit' to quit): x\n"
          ]
        }
      ]
    },
    {
      "cell_type": "code",
      "source": [],
      "metadata": {
        "id": "qWG1JJR2sWVX"
      },
      "execution_count": null,
      "outputs": []
    }
  ]
}