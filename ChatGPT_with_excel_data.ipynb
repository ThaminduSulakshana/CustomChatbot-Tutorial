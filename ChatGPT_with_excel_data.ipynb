{
  "nbformat": 4,
  "nbformat_minor": 0,
  "metadata": {
    "colab": {
      "provenance": [],
      "mount_file_id": "1yp6RL4EHWFbWNOoZMYd09atVcxRY6tFl",
      "authorship_tag": "ABX9TyPlN7x/64tp6eA7eMsu51Mn",
      "include_colab_link": true
    },
    "kernelspec": {
      "name": "python3",
      "display_name": "Python 3"
    },
    "language_info": {
      "name": "python"
    }
  },
  "cells": [
    {
      "cell_type": "markdown",
      "metadata": {
        "id": "view-in-github",
        "colab_type": "text"
      },
      "source": [
        "<a href=\"https://colab.research.google.com/github/ThaminduSulakshana/CustomChatbot-Tutorial/blob/main/ChatGPT_with_excel_data.ipynb\" target=\"_parent\"><img src=\"https://colab.research.google.com/assets/colab-badge.svg\" alt=\"Open In Colab\"/></a>"
      ]
    },
    {
      "cell_type": "code",
      "execution_count": null,
      "metadata": {
        "id": "zIOs1l5fQH3X"
      },
      "outputs": [],
      "source": [
        "!pip install pandas\n",
        "!pip install -U sentence-transformers\n",
        "!pip install langchain\n",
        "!pip install faiss-cpu"
      ]
    },
    {
      "cell_type": "code",
      "source": [
        "import pandas as pd\n",
        "from sentence_transformers import SentenceTransformer\n",
        "from langchain.text_splitter import SpacyTextSplitter\n",
        "import faiss"
      ],
      "metadata": {
        "id": "_4WNXiyiT93J"
      },
      "execution_count": null,
      "outputs": []
    },
    {
      "cell_type": "code",
      "source": [
        "# Assuming the data is in the first sheet, change the sheet name accordingly\n",
        "\n",
        "faq_df = pd.read_excel('/content/drive/MyDrive/bluechiptech.asia/LangChain-Chat-bot/docs/MachineLearning-Lecture01.xlsx', sheet_name=0)\n",
        "\n",
        "# Extract and print the first two lines\n",
        "first_two_lines = faq_df.head(5)\n",
        "print(\"First two lines from the Excel sheet:\")\n",
        "print(first_two_lines)"
      ],
      "metadata": {
        "colab": {
          "base_uri": "https://localhost:8080/"
        },
        "id": "D8bcPoxAS68B",
        "outputId": "ce68214b-4e61-4da7-ccb2-6364db6184e9"
      },
      "execution_count": null,
      "outputs": [
        {
          "output_type": "stream",
          "name": "stdout",
          "text": [
            "First two lines from the Excel sheet:\n",
            "                           MachineLearning-Lecture01\n",
            "0  Instructor (Andrew Ng): Okay. Good morning. We...\n",
            "1  By way of introduction, my name's Andrew Ng an...\n",
            "2  I also want to introduce the TAs, who are all ...\n",
            "3  So you'll get to know the TAs and me much bett...\n",
            "4  So just in my own daily work, I actually frequ...\n"
          ]
        }
      ]
    },
    {
      "cell_type": "code",
      "source": [
        "print(faq_df.columns)"
      ],
      "metadata": {
        "colab": {
          "base_uri": "https://localhost:8080/"
        },
        "id": "l5ImiO6mWZKJ",
        "outputId": "027479a6-f614-49ce-edb0-8ae73977afc2"
      },
      "execution_count": null,
      "outputs": [
        {
          "output_type": "stream",
          "name": "stdout",
          "text": [
            "Index(['MachineLearning-Lecture01'], dtype='object')\n"
          ]
        }
      ]
    },
    {
      "cell_type": "code",
      "source": [
        "# Create a SpacyTextSplitter instance with a specified chunk size\n",
        "text_splitter = SpacyTextSplitter(chunk_size=500)\n",
        "\n",
        "# Split the text in each cell into chunks\n",
        "faq_df['Question_Chunks'] = faq_df['MachineLearning-Lecture01'].apply(lambda x: text_splitter.split_text(x))\n",
        "\n",
        "# Flatten the chunks into a list\n",
        "faq_text_chunks = [chunk for chunks in faq_df['Question_Chunks'] for chunk in chunks]"
      ],
      "metadata": {
        "colab": {
          "base_uri": "https://localhost:8080/"
        },
        "id": "sA_7wWtwU7hR",
        "outputId": "759a1c75-dc17-4275-a4bb-103b07a481e9"
      },
      "execution_count": null,
      "outputs": [
        {
          "output_type": "stream",
          "name": "stderr",
          "text": [
            "/usr/local/lib/python3.10/dist-packages/spacy/pipeline/lemmatizer.py:211: UserWarning: [W108] The rule-based lemmatizer did not find POS annotation for one or more tokens. Check that your pipeline includes components that assign token.pos, typically 'tagger'+'attribute_ruler' or 'morphologizer'.\n",
            "  warnings.warn(Warnings.W108)\n",
            "WARNING:langchain.text_splitter:Created a chunk of size 505, which is longer than the specified 500\n"
          ]
        }
      ]
    },
    {
      "cell_type": "code",
      "source": [
        "# Encode the FAQ text using SentenceTransformer\n",
        "encoder = SentenceTransformer(\"paraphrase-mpnet-base-v2\")\n",
        "faq_vectors = encoder.encode(faq_text_chunks)"
      ],
      "metadata": {
        "id": "QYlZXrYGTRiC"
      },
      "execution_count": null,
      "outputs": []
    },
    {
      "cell_type": "code",
      "source": [
        "# Build the FAISS index\n",
        "faq_index = faiss.IndexFlatIP(faq_vectors.shape[1])\n",
        "faq_index.add(faq_vectors)"
      ],
      "metadata": {
        "id": "5SAD-_VhTeLg"
      },
      "execution_count": null,
      "outputs": []
    },
    {
      "cell_type": "code",
      "source": [
        "df = pd.DataFrame({'facts': faq_text_chunks})\n",
        "question_counter = 0"
      ],
      "metadata": {
        "id": "oZkMgUh-XSBI"
      },
      "execution_count": null,
      "outputs": []
    },
    {
      "cell_type": "code",
      "source": [
        "df.head()"
      ],
      "metadata": {
        "id": "LMTE-hEAgWVn",
        "outputId": "f60b0362-ccf5-488c-95b6-a3c1a668b93a",
        "colab": {
          "base_uri": "https://localhost:8080/",
          "height": 204
        }
      },
      "execution_count": null,
      "outputs": [
        {
          "output_type": "execute_result",
          "data": {
            "text/plain": [
              "                                               facts\n",
              "0  Instructor (Andrew Ng): Okay.\\n\\nGood morning....\n",
              "1  By way of introduction, my name's Andrew Ng\\n\\...\n",
              "2  So I'm actually always excited about teaching ...\n",
              "3  I also want to introduce the TAs, who are all ...\n",
              "4  Tom Do is another PhD student, works in comput..."
            ],
            "text/html": [
              "\n",
              "  <div id=\"df-fa482df5-9c20-4a57-abcd-4a25dea92b6a\" class=\"colab-df-container\">\n",
              "    <div>\n",
              "<style scoped>\n",
              "    .dataframe tbody tr th:only-of-type {\n",
              "        vertical-align: middle;\n",
              "    }\n",
              "\n",
              "    .dataframe tbody tr th {\n",
              "        vertical-align: top;\n",
              "    }\n",
              "\n",
              "    .dataframe thead th {\n",
              "        text-align: right;\n",
              "    }\n",
              "</style>\n",
              "<table border=\"1\" class=\"dataframe\">\n",
              "  <thead>\n",
              "    <tr style=\"text-align: right;\">\n",
              "      <th></th>\n",
              "      <th>facts</th>\n",
              "    </tr>\n",
              "  </thead>\n",
              "  <tbody>\n",
              "    <tr>\n",
              "      <th>0</th>\n",
              "      <td>Instructor (Andrew Ng): Okay.\\n\\nGood morning....</td>\n",
              "    </tr>\n",
              "    <tr>\n",
              "      <th>1</th>\n",
              "      <td>By way of introduction, my name's Andrew Ng\\n\\...</td>\n",
              "    </tr>\n",
              "    <tr>\n",
              "      <th>2</th>\n",
              "      <td>So I'm actually always excited about teaching ...</td>\n",
              "    </tr>\n",
              "    <tr>\n",
              "      <th>3</th>\n",
              "      <td>I also want to introduce the TAs, who are all ...</td>\n",
              "    </tr>\n",
              "    <tr>\n",
              "      <th>4</th>\n",
              "      <td>Tom Do is another PhD student, works in comput...</td>\n",
              "    </tr>\n",
              "  </tbody>\n",
              "</table>\n",
              "</div>\n",
              "    <div class=\"colab-df-buttons\">\n",
              "\n",
              "  <div class=\"colab-df-container\">\n",
              "    <button class=\"colab-df-convert\" onclick=\"convertToInteractive('df-fa482df5-9c20-4a57-abcd-4a25dea92b6a')\"\n",
              "            title=\"Convert this dataframe to an interactive table.\"\n",
              "            style=\"display:none;\">\n",
              "\n",
              "  <svg xmlns=\"http://www.w3.org/2000/svg\" height=\"24px\" viewBox=\"0 -960 960 960\">\n",
              "    <path d=\"M120-120v-720h720v720H120Zm60-500h600v-160H180v160Zm220 220h160v-160H400v160Zm0 220h160v-160H400v160ZM180-400h160v-160H180v160Zm440 0h160v-160H620v160ZM180-180h160v-160H180v160Zm440 0h160v-160H620v160Z\"/>\n",
              "  </svg>\n",
              "    </button>\n",
              "\n",
              "  <style>\n",
              "    .colab-df-container {\n",
              "      display:flex;\n",
              "      gap: 12px;\n",
              "    }\n",
              "\n",
              "    .colab-df-convert {\n",
              "      background-color: #E8F0FE;\n",
              "      border: none;\n",
              "      border-radius: 50%;\n",
              "      cursor: pointer;\n",
              "      display: none;\n",
              "      fill: #1967D2;\n",
              "      height: 32px;\n",
              "      padding: 0 0 0 0;\n",
              "      width: 32px;\n",
              "    }\n",
              "\n",
              "    .colab-df-convert:hover {\n",
              "      background-color: #E2EBFA;\n",
              "      box-shadow: 0px 1px 2px rgba(60, 64, 67, 0.3), 0px 1px 3px 1px rgba(60, 64, 67, 0.15);\n",
              "      fill: #174EA6;\n",
              "    }\n",
              "\n",
              "    .colab-df-buttons div {\n",
              "      margin-bottom: 4px;\n",
              "    }\n",
              "\n",
              "    [theme=dark] .colab-df-convert {\n",
              "      background-color: #3B4455;\n",
              "      fill: #D2E3FC;\n",
              "    }\n",
              "\n",
              "    [theme=dark] .colab-df-convert:hover {\n",
              "      background-color: #434B5C;\n",
              "      box-shadow: 0px 1px 3px 1px rgba(0, 0, 0, 0.15);\n",
              "      filter: drop-shadow(0px 1px 2px rgba(0, 0, 0, 0.3));\n",
              "      fill: #FFFFFF;\n",
              "    }\n",
              "  </style>\n",
              "\n",
              "    <script>\n",
              "      const buttonEl =\n",
              "        document.querySelector('#df-fa482df5-9c20-4a57-abcd-4a25dea92b6a button.colab-df-convert');\n",
              "      buttonEl.style.display =\n",
              "        google.colab.kernel.accessAllowed ? 'block' : 'none';\n",
              "\n",
              "      async function convertToInteractive(key) {\n",
              "        const element = document.querySelector('#df-fa482df5-9c20-4a57-abcd-4a25dea92b6a');\n",
              "        const dataTable =\n",
              "          await google.colab.kernel.invokeFunction('convertToInteractive',\n",
              "                                                    [key], {});\n",
              "        if (!dataTable) return;\n",
              "\n",
              "        const docLinkHtml = 'Like what you see? Visit the ' +\n",
              "          '<a target=\"_blank\" href=https://colab.research.google.com/notebooks/data_table.ipynb>data table notebook</a>'\n",
              "          + ' to learn more about interactive tables.';\n",
              "        element.innerHTML = '';\n",
              "        dataTable['output_type'] = 'display_data';\n",
              "        await google.colab.output.renderOutput(dataTable, element);\n",
              "        const docLink = document.createElement('div');\n",
              "        docLink.innerHTML = docLinkHtml;\n",
              "        element.appendChild(docLink);\n",
              "      }\n",
              "    </script>\n",
              "  </div>\n",
              "\n",
              "\n",
              "<div id=\"df-36b81f32-b8fa-4f57-aaba-a19a95dd820a\">\n",
              "  <button class=\"colab-df-quickchart\" onclick=\"quickchart('df-36b81f32-b8fa-4f57-aaba-a19a95dd820a')\"\n",
              "            title=\"Suggest charts\"\n",
              "            style=\"display:none;\">\n",
              "\n",
              "<svg xmlns=\"http://www.w3.org/2000/svg\" height=\"24px\"viewBox=\"0 0 24 24\"\n",
              "     width=\"24px\">\n",
              "    <g>\n",
              "        <path d=\"M19 3H5c-1.1 0-2 .9-2 2v14c0 1.1.9 2 2 2h14c1.1 0 2-.9 2-2V5c0-1.1-.9-2-2-2zM9 17H7v-7h2v7zm4 0h-2V7h2v10zm4 0h-2v-4h2v4z\"/>\n",
              "    </g>\n",
              "</svg>\n",
              "  </button>\n",
              "\n",
              "<style>\n",
              "  .colab-df-quickchart {\n",
              "      --bg-color: #E8F0FE;\n",
              "      --fill-color: #1967D2;\n",
              "      --hover-bg-color: #E2EBFA;\n",
              "      --hover-fill-color: #174EA6;\n",
              "      --disabled-fill-color: #AAA;\n",
              "      --disabled-bg-color: #DDD;\n",
              "  }\n",
              "\n",
              "  [theme=dark] .colab-df-quickchart {\n",
              "      --bg-color: #3B4455;\n",
              "      --fill-color: #D2E3FC;\n",
              "      --hover-bg-color: #434B5C;\n",
              "      --hover-fill-color: #FFFFFF;\n",
              "      --disabled-bg-color: #3B4455;\n",
              "      --disabled-fill-color: #666;\n",
              "  }\n",
              "\n",
              "  .colab-df-quickchart {\n",
              "    background-color: var(--bg-color);\n",
              "    border: none;\n",
              "    border-radius: 50%;\n",
              "    cursor: pointer;\n",
              "    display: none;\n",
              "    fill: var(--fill-color);\n",
              "    height: 32px;\n",
              "    padding: 0;\n",
              "    width: 32px;\n",
              "  }\n",
              "\n",
              "  .colab-df-quickchart:hover {\n",
              "    background-color: var(--hover-bg-color);\n",
              "    box-shadow: 0 1px 2px rgba(60, 64, 67, 0.3), 0 1px 3px 1px rgba(60, 64, 67, 0.15);\n",
              "    fill: var(--button-hover-fill-color);\n",
              "  }\n",
              "\n",
              "  .colab-df-quickchart-complete:disabled,\n",
              "  .colab-df-quickchart-complete:disabled:hover {\n",
              "    background-color: var(--disabled-bg-color);\n",
              "    fill: var(--disabled-fill-color);\n",
              "    box-shadow: none;\n",
              "  }\n",
              "\n",
              "  .colab-df-spinner {\n",
              "    border: 2px solid var(--fill-color);\n",
              "    border-color: transparent;\n",
              "    border-bottom-color: var(--fill-color);\n",
              "    animation:\n",
              "      spin 1s steps(1) infinite;\n",
              "  }\n",
              "\n",
              "  @keyframes spin {\n",
              "    0% {\n",
              "      border-color: transparent;\n",
              "      border-bottom-color: var(--fill-color);\n",
              "      border-left-color: var(--fill-color);\n",
              "    }\n",
              "    20% {\n",
              "      border-color: transparent;\n",
              "      border-left-color: var(--fill-color);\n",
              "      border-top-color: var(--fill-color);\n",
              "    }\n",
              "    30% {\n",
              "      border-color: transparent;\n",
              "      border-left-color: var(--fill-color);\n",
              "      border-top-color: var(--fill-color);\n",
              "      border-right-color: var(--fill-color);\n",
              "    }\n",
              "    40% {\n",
              "      border-color: transparent;\n",
              "      border-right-color: var(--fill-color);\n",
              "      border-top-color: var(--fill-color);\n",
              "    }\n",
              "    60% {\n",
              "      border-color: transparent;\n",
              "      border-right-color: var(--fill-color);\n",
              "    }\n",
              "    80% {\n",
              "      border-color: transparent;\n",
              "      border-right-color: var(--fill-color);\n",
              "      border-bottom-color: var(--fill-color);\n",
              "    }\n",
              "    90% {\n",
              "      border-color: transparent;\n",
              "      border-bottom-color: var(--fill-color);\n",
              "    }\n",
              "  }\n",
              "</style>\n",
              "\n",
              "  <script>\n",
              "    async function quickchart(key) {\n",
              "      const quickchartButtonEl =\n",
              "        document.querySelector('#' + key + ' button');\n",
              "      quickchartButtonEl.disabled = true;  // To prevent multiple clicks.\n",
              "      quickchartButtonEl.classList.add('colab-df-spinner');\n",
              "      try {\n",
              "        const charts = await google.colab.kernel.invokeFunction(\n",
              "            'suggestCharts', [key], {});\n",
              "      } catch (error) {\n",
              "        console.error('Error during call to suggestCharts:', error);\n",
              "      }\n",
              "      quickchartButtonEl.classList.remove('colab-df-spinner');\n",
              "      quickchartButtonEl.classList.add('colab-df-quickchart-complete');\n",
              "    }\n",
              "    (() => {\n",
              "      let quickchartButtonEl =\n",
              "        document.querySelector('#df-36b81f32-b8fa-4f57-aaba-a19a95dd820a button');\n",
              "      quickchartButtonEl.style.display =\n",
              "        google.colab.kernel.accessAllowed ? 'block' : 'none';\n",
              "    })();\n",
              "  </script>\n",
              "</div>\n",
              "    </div>\n",
              "  </div>\n"
            ]
          },
          "metadata": {},
          "execution_count": 8
        }
      ]
    },
    {
      "cell_type": "code",
      "source": [
        "# Define the search function\n",
        "def search_faq(search_text, encoder, index, faq_df):\n",
        "    # Encode the search text\n",
        "    search_vector = encoder.encode([search_text])\n",
        "\n",
        "    # Normalize the search vector\n",
        "    faiss.normalize_L2(search_vector)\n",
        "\n",
        "    # Perform similarity search\n",
        "    k = index.ntotal\n",
        "    distances, ann = index.search(search_vector, k=k)\n",
        "    results = pd.DataFrame({'distances': distances[0], 'ann': ann[0]})\n",
        "\n",
        "    # Merge with the FAQ dataframe\n",
        "    merge = pd.merge(results, faq_df, left_on='ann', right_index=True)\n",
        "\n",
        "    return merge"
      ],
      "metadata": {
        "id": "jN9He2loXS1s"
      },
      "execution_count": null,
      "outputs": []
    },
    {
      "cell_type": "code",
      "source": [
        "# Example search query\n",
        "search_text = 'Why does Andrew Ng believe in machine learning'\n",
        "\n",
        "# Perform the search using faq_index instead of index\n",
        "result = search_faq(search_text, encoder, faq_index, faq_df)"
      ],
      "metadata": {
        "id": "B8-k9KhmZD-w"
      },
      "execution_count": null,
      "outputs": []
    },
    {
      "cell_type": "code",
      "source": [
        "print(result)"
      ],
      "metadata": {
        "id": "cRnv-GxWZqFR",
        "outputId": "1ef98b5d-b44d-40b6-f9e8-846bbafc05d9",
        "colab": {
          "base_uri": "https://localhost:8080/"
        }
      },
      "execution_count": null,
      "outputs": [
        {
          "output_type": "stream",
          "name": "stdout",
          "text": [
            "     distances  ann                          MachineLearning-Lecture01  \\\n",
            "0     1.652704  199  Okay. So that was most of what I wanted to say...   \n",
            "1     1.597750  116  And this sort of learning problem of learning ...   \n",
            "2     1.584338   27  Instructor (Andrew Ng) : Oh, I see, industry. ...   \n",
            "3     1.529696  153                                      Microphone 1:   \n",
            "4     1.492354  127  So let's see. So that was supervised learning....   \n",
            "..         ...  ...                                                ...   \n",
            "237   0.011255  187  So I got this from Samuel Wyse at Toronto, U o...   \n",
            "238  -0.026369   76        Instructor (Andrew Ng): Oh, yes, thank you.   \n",
            "239  -0.129231  201                                     [End of Audio]   \n",
            "240  -0.129231  194  So it turns out reinforcement learning is appl...   \n",
            "241  -0.129231  189  So, for example, this is something that my stu...   \n",
            "\n",
            "                                       Question_Chunks  \n",
            "0    [Okay.\\n\\nSo that was most of what I wanted to...  \n",
            "1    [And this sort of learning problem of learning...  \n",
            "2    [Instructor (Andrew Ng) :\\n\\nOh, I see, indust...  \n",
            "3                                      [Microphone 1:]  \n",
            "4    [So let's see.\\n\\nSo that was supervised learn...  \n",
            "..                                                 ...  \n",
            "237  [So I got this from Samuel Wyse at Toronto, U ...  \n",
            "238      [Instructor (Andrew Ng): Oh, yes, thank you.]  \n",
            "239                                   [[End of Audio]]  \n",
            "240  [So it turns out reinforcement learning is app...  \n",
            "241  [So, for example, this is something that my st...  \n",
            "\n",
            "[203 rows x 4 columns]\n"
          ]
        }
      ]
    },
    {
      "cell_type": "code",
      "source": [
        "# Extract the nearest result\n",
        "nearest_result = result.iloc[0]\n",
        "\n",
        "# Extract information from the nearest result\n",
        "nearest_distance = nearest_result['distances']\n",
        "nearest_ann = nearest_result['ann']\n",
        "nearest_text = df.loc[nearest_ann, 'facts']\n",
        "\n",
        "# Display the information\n",
        "print(f\"Nearest Distance: {nearest_distance}\")\n",
        "print(f\"Nearest ANN: {nearest_ann}\")\n",
        "print(f\"Nearest Text:\\n{nearest_text}\")\n"
      ],
      "metadata": {
        "id": "WRgjw_m7dPdY",
        "outputId": "1a5c4fa0-2dd3-4805-82f5-8acd8d02b089",
        "colab": {
          "base_uri": "https://localhost:8080/"
        }
      },
      "execution_count": null,
      "outputs": [
        {
          "output_type": "stream",
          "name": "stdout",
          "text": [
            "Nearest Distance: 1.6527042388916016\n",
            "Nearest ANN: 199\n",
            "Nearest Text:\n",
            "Instructor (Andrew Ng) :\n",
            "\n",
            "And there's the second algorithm:\n"
          ]
        }
      ]
    },
    {
      "cell_type": "code",
      "source": [
        "# Assuming 'result' DataFrame has columns 'ann' and 'distances'\n",
        "nearest_index = result['ann'].iloc[0]\n",
        "\n",
        "# Retrieve the corresponding information from the original DataFrame\n",
        "nearest_match = df.loc[nearest_index, 'facts']\n",
        "\n",
        "# Display the result\n",
        "print(f\"Question: {search_text}\\n\")\n",
        "print(f\"Answer: {nearest_match}\\n\")\n",
        "print(f\"Distance: {result['distances'].iloc[0]}\")\n"
      ],
      "metadata": {
        "id": "MWhkAkgkfC1H",
        "outputId": "e29dd273-fe75-4a6c-b3c2-b31e06ae03e2",
        "colab": {
          "base_uri": "https://localhost:8080/"
        }
      },
      "execution_count": null,
      "outputs": [
        {
          "output_type": "stream",
          "name": "stdout",
          "text": [
            "Question: Why does Andrew Ng believe in machine learning\n",
            "\n",
            "Answer: Instructor (Andrew Ng) :\n",
            "\n",
            "And there's the second algorithm:\n",
            "\n",
            "Distance: 1.6527042388916016\n"
          ]
        }
      ]
    },
    {
      "cell_type": "code",
      "source": [
        "# Interactive loop\n",
        "question_counter = 0\n",
        "while True:\n",
        "    # Increment question counter\n",
        "    question_counter += 1\n",
        "\n",
        "    # Input question\n",
        "    search_text = input(\"Type your question (type 'exit' to quit): \")\n",
        "\n",
        "    # Check for exit condition\n",
        "    if search_text.lower() == 'x':\n",
        "        break\n",
        "\n",
        "    # Perform the search\n",
        "    result = search_faq(search_text, encoder, faq_index, faq_df)\n",
        "\n",
        "    # Display the results\n",
        "    if not result.empty:\n",
        "        nearest_index = result['ann'].iloc[0]\n",
        "        nearest_match = df.loc[nearest_index, 'facts']\n",
        "        print(f\"\\n{question_counter} Question: {search_text}\\n\")\n",
        "        print(f\"Nearest Match: {nearest_match}\\n\")\n",
        "        print(f\"Distance: {result['distances'].iloc[0]}\\n\")\n",
        "    else:\n",
        "        print(\"No matching result found.\\n\")"
      ],
      "metadata": {
        "id": "L8wWInQ9Xo2L",
        "outputId": "5b10357d-69fe-4a3b-f11c-6290ddef6521",
        "colab": {
          "base_uri": "https://localhost:8080/"
        }
      },
      "execution_count": null,
      "outputs": [
        {
          "name": "stdout",
          "output_type": "stream",
          "text": [
            "Type your question (type 'exit' to quit): What are the three goals that are mentioned in machine learning?\n",
            "\n",
            "1 Question: What are the three goals that are mentioned in machine learning?\n",
            "\n",
            "Nearest Match: So in teaching this class, I sort of have three goals.\n",
            "\n",
            "One of them is just to I hope convey some of my own excitement about machine learning to you.\n",
            "\n",
            "Distance: 2.1442618370056152\n",
            "\n",
            "Type your question (type 'exit' to quit): Machine learning based on the backgrounds of the TAs\n",
            "\n",
            "2 Question: Machine learning based on the backgrounds of the TAs\n",
            "\n",
            "Nearest Match: So you'll get to know the TAs and me much better throughout this quarter, but just from the sorts of things the TA's do, I hope you can already tell that machine learning is a highly interdisciplinary topic in which just the TAs find learning algorithms to problems in computer vision and biology and robots and language.\n",
            "\n",
            "And machine learning is one of those things that has and is having a large impact on many applications.\n",
            "\n",
            "Distance: 1.8378539085388184\n",
            "\n",
            "Type your question (type 'exit' to quit): x\n"
          ]
        }
      ]
    },
    {
      "cell_type": "code",
      "source": [],
      "metadata": {
        "id": "sYrfP7lfctLm"
      },
      "execution_count": null,
      "outputs": []
    }
  ]
}